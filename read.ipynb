{
 "cells": [
  {
   "cell_type": "code",
   "id": "initial_id",
   "metadata": {
    "collapsed": true,
    "ExecuteTime": {
     "end_time": "2024-10-14T08:41:08.625905Z",
     "start_time": "2024-10-14T08:41:03.860757Z"
    }
   },
   "source": [
    "import numpy as np\n",
    "import pandas as pd\n",
    "import os\n",
    "file_path = \"E:\\\\output_3\"\n",
    "file_list = []\n",
    "for file in os.listdir(file_path):\n",
    "    if file.endswith(\".csv\"):\n",
    "        df = pd.read_csv(os.path.join(file_path, file), header=None)\n",
    "        file_list.append(df)"
   ],
   "outputs": [],
   "execution_count": 21
  },
  {
   "metadata": {
    "ExecuteTime": {
     "end_time": "2024-10-14T08:54:49.140549Z",
     "start_time": "2024-10-14T08:54:46.763488Z"
    }
   },
   "cell_type": "code",
   "source": [
    "import numpy as np\n",
    "df = pd.concat(file_list,axis=0,ignore_index=True)\n",
    "df_1 = df[df[1] == 'asset-file-tree']\n",
    "df_2 = df[df[1] == 'asset-preview']\n",
    "sum_1 = np.sum(df_1[3])\n",
    "sum_2 = np.sum(df_2[3])\n",
    "df_new = df[(df[1] != 'asset-file-tree') & (df[1] != 'asset-preview')]\n",
    "df_new_2 = pd.DataFrame({\n",
    "    0: [\"data\", \"data\"],\n",
    "    1: [\"asset-file-tree\", \"asset-preview\"],\n",
    "    2: [np.NAN, np.NAN],\n",
    "    3: [sum_1, sum_2]\n",
    "})\n",
    "df_final = pd.concat([df_new, df_new_2], axis=0, ignore_index=True)\n",
    "df_final.to_csv('output_3.csv')"
   ],
   "id": "148339009646c1b5",
   "outputs": [],
   "execution_count": 30
  },
  {
   "metadata": {
    "ExecuteTime": {
     "end_time": "2024-10-14T08:56:42.914928Z",
     "start_time": "2024-10-14T08:56:42.885126Z"
    }
   },
   "cell_type": "code",
   "source": "df",
   "id": "d33933286b49dea6",
   "outputs": [
    {
     "data": {
      "text/plain": [
       "                    0       1  \\\n",
       "0         .Trash-1000   files   \n",
       "1         .Trash-1000    info   \n",
       "2         .Trash-1000    info   \n",
       "3         .Trash-1000    info   \n",
       "4         .Trash-1000    info   \n",
       "...               ...     ...   \n",
       "9587065          data  backup   \n",
       "9587066  auto.prod.sz   users   \n",
       "9587067          data   users   \n",
       "9587068          data   users   \n",
       "9587069          data   users   \n",
       "\n",
       "                                                         2             3  \n",
       "0               1X4Gfy7Noo_0_000000001121_000100000000.mat  2.344700e+04  \n",
       "1        1X4Gfy7Noo_0_000000001103_000500000000.mat.tra...  1.830000e+02  \n",
       "2                             cam6_base_1888.png.trashinfo  1.490000e+02  \n",
       "3             evaluation_report_split_last.3.pdf.trashinfo  1.910000e+02  \n",
       "4                                    scdt_info.2.trashinfo  1.310000e+02  \n",
       "...                                                    ...           ...  \n",
       "9587065                         MachineLearningData-backup  3.502629e+13  \n",
       "9587066                                            yuez.lv  3.216030e+09  \n",
       "9587067                                           andytian  1.931651e+06  \n",
       "9587068                                              anson  5.604538e+08  \n",
       "9587069                                     christian.zhou  2.430854e+06  \n",
       "\n",
       "[9587070 rows x 4 columns]"
      ],
      "text/html": [
       "<div>\n",
       "<style scoped>\n",
       "    .dataframe tbody tr th:only-of-type {\n",
       "        vertical-align: middle;\n",
       "    }\n",
       "\n",
       "    .dataframe tbody tr th {\n",
       "        vertical-align: top;\n",
       "    }\n",
       "\n",
       "    .dataframe thead th {\n",
       "        text-align: right;\n",
       "    }\n",
       "</style>\n",
       "<table border=\"1\" class=\"dataframe\">\n",
       "  <thead>\n",
       "    <tr style=\"text-align: right;\">\n",
       "      <th></th>\n",
       "      <th>0</th>\n",
       "      <th>1</th>\n",
       "      <th>2</th>\n",
       "      <th>3</th>\n",
       "    </tr>\n",
       "  </thead>\n",
       "  <tbody>\n",
       "    <tr>\n",
       "      <th>0</th>\n",
       "      <td>.Trash-1000</td>\n",
       "      <td>files</td>\n",
       "      <td>1X4Gfy7Noo_0_000000001121_000100000000.mat</td>\n",
       "      <td>2.344700e+04</td>\n",
       "    </tr>\n",
       "    <tr>\n",
       "      <th>1</th>\n",
       "      <td>.Trash-1000</td>\n",
       "      <td>info</td>\n",
       "      <td>1X4Gfy7Noo_0_000000001103_000500000000.mat.tra...</td>\n",
       "      <td>1.830000e+02</td>\n",
       "    </tr>\n",
       "    <tr>\n",
       "      <th>2</th>\n",
       "      <td>.Trash-1000</td>\n",
       "      <td>info</td>\n",
       "      <td>cam6_base_1888.png.trashinfo</td>\n",
       "      <td>1.490000e+02</td>\n",
       "    </tr>\n",
       "    <tr>\n",
       "      <th>3</th>\n",
       "      <td>.Trash-1000</td>\n",
       "      <td>info</td>\n",
       "      <td>evaluation_report_split_last.3.pdf.trashinfo</td>\n",
       "      <td>1.910000e+02</td>\n",
       "    </tr>\n",
       "    <tr>\n",
       "      <th>4</th>\n",
       "      <td>.Trash-1000</td>\n",
       "      <td>info</td>\n",
       "      <td>scdt_info.2.trashinfo</td>\n",
       "      <td>1.310000e+02</td>\n",
       "    </tr>\n",
       "    <tr>\n",
       "      <th>...</th>\n",
       "      <td>...</td>\n",
       "      <td>...</td>\n",
       "      <td>...</td>\n",
       "      <td>...</td>\n",
       "    </tr>\n",
       "    <tr>\n",
       "      <th>9587065</th>\n",
       "      <td>data</td>\n",
       "      <td>backup</td>\n",
       "      <td>MachineLearningData-backup</td>\n",
       "      <td>3.502629e+13</td>\n",
       "    </tr>\n",
       "    <tr>\n",
       "      <th>9587066</th>\n",
       "      <td>auto.prod.sz</td>\n",
       "      <td>users</td>\n",
       "      <td>yuez.lv</td>\n",
       "      <td>3.216030e+09</td>\n",
       "    </tr>\n",
       "    <tr>\n",
       "      <th>9587067</th>\n",
       "      <td>data</td>\n",
       "      <td>users</td>\n",
       "      <td>andytian</td>\n",
       "      <td>1.931651e+06</td>\n",
       "    </tr>\n",
       "    <tr>\n",
       "      <th>9587068</th>\n",
       "      <td>data</td>\n",
       "      <td>users</td>\n",
       "      <td>anson</td>\n",
       "      <td>5.604538e+08</td>\n",
       "    </tr>\n",
       "    <tr>\n",
       "      <th>9587069</th>\n",
       "      <td>data</td>\n",
       "      <td>users</td>\n",
       "      <td>christian.zhou</td>\n",
       "      <td>2.430854e+06</td>\n",
       "    </tr>\n",
       "  </tbody>\n",
       "</table>\n",
       "<p>9587070 rows × 4 columns</p>\n",
       "</div>"
      ]
     },
     "execution_count": 31,
     "metadata": {},
     "output_type": "execute_result"
    }
   ],
   "execution_count": 31
  },
  {
   "metadata": {
    "ExecuteTime": {
     "end_time": "2024-10-14T09:17:59.224401Z",
     "start_time": "2024-10-14T09:17:59.215645Z"
    }
   },
   "cell_type": "code",
   "source": [
    "a = (\"abc\", \"asd\")\n",
    "b = (\"abc\", \"asd\")\n",
    "print(a is b)"
   ],
   "id": "abbee10b2fde4a75",
   "outputs": [
    {
     "name": "stdout",
     "output_type": "stream",
     "text": [
      "False\n"
     ]
    }
   ],
   "execution_count": 33
  }
 ],
 "metadata": {
  "kernelspec": {
   "display_name": "Python 3",
   "language": "python",
   "name": "python3"
  },
  "language_info": {
   "codemirror_mode": {
    "name": "ipython",
    "version": 2
   },
   "file_extension": ".py",
   "mimetype": "text/x-python",
   "name": "python",
   "nbconvert_exporter": "python",
   "pygments_lexer": "ipython2",
   "version": "2.7.6"
  }
 },
 "nbformat": 4,
 "nbformat_minor": 5
}
